{
 "cells": [
  {
   "cell_type": "code",
   "execution_count": 3,
   "metadata": {},
   "outputs": [],
   "source": [
    "import chromadb"
   ]
  },
  {
   "cell_type": "code",
   "execution_count": 5,
   "metadata": {},
   "outputs": [],
   "source": [
    "client = chromadb.PersistentClient(\n",
    "    path='./vectorstore',\n",
    ")"
   ]
  },
  {
   "cell_type": "code",
   "execution_count": 6,
   "metadata": {},
   "outputs": [],
   "source": [
    "collection = client.get_or_create_collection(name=\"my_programming_collection\")"
   ]
  },
  {
   "cell_type": "code",
   "execution_count": 7,
   "metadata": {},
   "outputs": [
    {
     "name": "stdout",
     "output_type": "stream",
     "text": [
      "{'ids': [], 'embeddings': array([], dtype=float64), 'documents': [], 'uris': None, 'data': None, 'metadatas': [], 'included': [<IncludeEnum.embeddings: 'embeddings'>, <IncludeEnum.documents: 'documents'>, <IncludeEnum.metadatas: 'metadatas'>]}\n"
     ]
    }
   ],
   "source": [
    "first_ten = collection.peek()\n",
    "print(first_ten)"
   ]
  },
  {
   "cell_type": "code",
   "execution_count": 8,
   "metadata": {},
   "outputs": [
    {
     "name": "stdout",
     "output_type": "stream",
     "text": [
      "0\n"
     ]
    }
   ],
   "source": [
    "collection_count = collection.count()\n",
    "print(collection_count)"
   ]
  },
  {
   "cell_type": "code",
   "execution_count": 9,
   "metadata": {},
   "outputs": [
    {
     "name": "stderr",
     "output_type": "stream",
     "text": [
      "/Users/obahi/.cache/chroma/onnx_models/all-MiniLM-L6-v2/onnx.tar.gz: 100%|██████████| 79.3M/79.3M [00:10<00:00, 7.75MiB/s]\n"
     ]
    }
   ],
   "source": [
    "collection.add(\n",
    "    documents=[\n",
    "        \"Python is a create interpreted language\",\n",
    "        \"Working with files in Python, can be done using a context manager\",\n",
    "        \"Type-hints is a great way to document your code\"\n",
    "    ],\n",
    "    metadatas=[{\"page\": 2, \"paragraph\": 6},\n",
    "               {\"page\": 100, \"paragraph\": 8},\n",
    "               {\"page\": 150, \"paragraph\": 1}],\n",
    "    ids=[\"1xx\", \"2xx\", \"3xx\"]\n",
    ")"
   ]
  },
  {
   "cell_type": "code",
   "execution_count": 10,
   "metadata": {},
   "outputs": [
    {
     "name": "stdout",
     "output_type": "stream",
     "text": [
      "{'ids': ['1xx', '2xx', '3xx'], 'embeddings': array([[-0.00039362, -0.02215092, -0.05418257, ...,  0.10953598,\n",
      "         0.19260091, -0.05152933],\n",
      "       [-0.07329128,  0.02773022, -0.09384716, ...,  0.10926154,\n",
      "         0.08247671,  0.04506085],\n",
      "       [-0.077681  ,  0.04107067,  0.0233639 , ...,  0.09715298,\n",
      "         0.01144893,  0.060749  ]]), 'documents': ['Python is a create interpreted language', 'Working with files in Python, can be done using a context manager', 'Type-hints is a great way to document your code'], 'uris': None, 'data': None, 'metadatas': [{'page': 2, 'paragraph': 6}, {'page': 100, 'paragraph': 8}, {'page': 150, 'paragraph': 1}], 'included': [<IncludeEnum.embeddings: 'embeddings'>, <IncludeEnum.documents: 'documents'>, <IncludeEnum.metadatas: 'metadatas'>]}\n"
     ]
    }
   ],
   "source": [
    "first_ten = collection.peek()\n",
    "print(first_ten)"
   ]
  },
  {
   "cell_type": "code",
   "execution_count": 12,
   "metadata": {},
   "outputs": [
    {
     "name": "stdout",
     "output_type": "stream",
     "text": [
      "3\n"
     ]
    }
   ],
   "source": [
    "collection_count = collection.count()\n",
    "print(collection_count)"
   ]
  },
  {
   "cell_type": "code",
   "execution_count": 13,
   "metadata": {},
   "outputs": [],
   "source": [
    "result = collection.query(\n",
    "    query_texts=[\"Python\"],\n",
    "    n_results=2\n",
    ")"
   ]
  },
  {
   "cell_type": "code",
   "execution_count": 14,
   "metadata": {},
   "outputs": [
    {
     "name": "stdout",
     "output_type": "stream",
     "text": [
      "{'ids': [['1xx', '2xx']], 'embeddings': None, 'documents': [['Python is a create interpreted language', 'Working with files in Python, can be done using a context manager']], 'uris': None, 'data': None, 'metadatas': [[{'page': 2, 'paragraph': 6}, {'page': 100, 'paragraph': 8}]], 'distances': [[0.8851613106063858, 0.9679395211019007]], 'included': [<IncludeEnum.distances: 'distances'>, <IncludeEnum.documents: 'documents'>, <IncludeEnum.metadatas: 'metadatas'>]}\n"
     ]
    }
   ],
   "source": [
    "print(result)"
   ]
  },
  {
   "cell_type": "code",
   "execution_count": 15,
   "metadata": {},
   "outputs": [
    {
     "name": "stdout",
     "output_type": "stream",
     "text": [
      "{'ids': [['3xx', '2xx']], 'embeddings': None, 'documents': [['Type-hints is a great way to document your code', 'Working with files in Python, can be done using a context manager']], 'uris': None, 'data': None, 'metadatas': [[{'page': 150, 'paragraph': 1}, {'page': 100, 'paragraph': 8}]], 'distances': [[1.211027802215698, 1.643149686172962]], 'included': [<IncludeEnum.distances: 'distances'>, <IncludeEnum.documents: 'documents'>, <IncludeEnum.metadatas: 'metadatas'>]}\n"
     ]
    }
   ],
   "source": [
    "result_2 = collection.query(\n",
    "    query_texts=[\"Documentation\"],\n",
    "    n_results=2,\n",
    "    # return_metadata=True\n",
    ")\n",
    "print(result_2)"
   ]
  },
  {
   "cell_type": "code",
   "execution_count": 16,
   "metadata": {},
   "outputs": [
    {
     "name": "stdout",
     "output_type": "stream",
     "text": [
      "{'ids': ['1xx', '3xx'], 'embeddings': None, 'documents': ['Python is a create interpreted language', 'Type-hints is a great way to document your code'], 'uris': None, 'data': None, 'metadatas': [{'page': 2, 'paragraph': 6}, {'page': 150, 'paragraph': 1}], 'included': [<IncludeEnum.documents: 'documents'>, <IncludeEnum.metadatas: 'metadatas'>]}\n"
     ]
    }
   ],
   "source": [
    "result3 = collection.get(\n",
    "    ids=[\"1xx\", \"3xx\"]\n",
    ")\n",
    "print(result3)"
   ]
  },
  {
   "cell_type": "code",
   "execution_count": 17,
   "metadata": {},
   "outputs": [
    {
     "name": "stdout",
     "output_type": "stream",
     "text": [
      "{'ids': [], 'embeddings': None, 'documents': [], 'uris': None, 'data': None, 'metadatas': [], 'included': [<IncludeEnum.documents: 'documents'>, <IncludeEnum.metadatas: 'metadatas'>]}\n"
     ]
    }
   ],
   "source": [
    "result4 = collection.get(\n",
    "    ids=[\"1xx\", \"3xx\"],\n",
    "    where={\"page\": 6}\n",
    ")\n",
    "\n",
    "print(result4)"
   ]
  },
  {
   "cell_type": "code",
   "execution_count": 18,
   "metadata": {},
   "outputs": [
    {
     "name": "stdout",
     "output_type": "stream",
     "text": [
      "{'ids': ['1xx'], 'embeddings': None, 'documents': ['Python is a create interpreted language'], 'uris': None, 'data': None, 'metadatas': [{'page': 2, 'paragraph': 6}], 'included': [<IncludeEnum.documents: 'documents'>, <IncludeEnum.metadatas: 'metadatas'>]}\n"
     ]
    }
   ],
   "source": [
    "result5 = collection.get(\n",
    "    ids=[\"1xx\", \"3xx\"],\n",
    "    where={\"page\": 2}\n",
    ")\n",
    "\n",
    "print(result5)"
   ]
  },
  {
   "cell_type": "code",
   "execution_count": 19,
   "metadata": {},
   "outputs": [
    {
     "name": "stdout",
     "output_type": "stream",
     "text": [
      "{'ids': ['1xx', '3xx'], 'embeddings': None, 'documents': ['Python is a create interpreted language', 'Type-hints is a great way to document your code'], 'uris': None, 'data': None, 'metadatas': None, 'included': [<IncludeEnum.documents: 'documents'>]}\n"
     ]
    }
   ],
   "source": [
    "result6 = collection.get(\n",
    "    ids=[\"1xx\", \"3xx\"],\n",
    "    # where={\"page\": 2},\n",
    "    include=[\"documents\"]\n",
    ")\n",
    "\n",
    "print(result6)"
   ]
  },
  {
   "cell_type": "code",
   "execution_count": 23,
   "metadata": {},
   "outputs": [],
   "source": [
    "del client\n"
   ]
  }
 ],
 "metadata": {
  "kernelspec": {
   "display_name": ".venv",
   "language": "python",
   "name": "python3"
  },
  "language_info": {
   "codemirror_mode": {
    "name": "ipython",
    "version": 3
   },
   "file_extension": ".py",
   "mimetype": "text/x-python",
   "name": "python",
   "nbconvert_exporter": "python",
   "pygments_lexer": "ipython3",
   "version": "3.9.5"
  }
 },
 "nbformat": 4,
 "nbformat_minor": 2
}
